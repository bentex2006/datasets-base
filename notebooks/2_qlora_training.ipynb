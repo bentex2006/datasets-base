{
 "cells": [
  {
   "cell_type": "markdown",
   "id": "df2fed0e",
   "metadata": {},
   "source": [
    "# 🚀 QLoRA Fine-tuning for LLMs\n",
    "\n",
    "This notebook implements QLoRA fine-tuning for:\n",
    "- Mistral 7B\n",
    "- Other compatible models\n",
    "\n",
    "Compatible with:\n",
    "- Google Colab\n",
    "- Kaggle\n",
    "- Local GPU clusters"
   ]
  },
  {
   "cell_type": "code",
   "execution_count": null,
   "id": "8ffe4201",
   "metadata": {},
   "outputs": [],
   "source": [
    "import os\n",
    "import torch\n",
    "from transformers import (\n",
    "    AutoModelForCausalLM,\n",
    "    AutoTokenizer,\n",
    "    BitsAndBytesConfig,\n",
    "    TrainingArguments\n",
    ")\n",
    "from peft import (\n",
    "    LoraConfig,\n",
    "    prepare_model_for_kbit_training,\n",
    "    get_peft_model\n",
    ")\n",
    "from datasets import load_dataset\n",
    "\n",
    "# Check GPU availability\n",
    "print(f\"CUDA available: {torch.cuda.is_available()}\")\n",
    "if torch.cuda.is_available():\n",
    "    print(f\"GPU: {torch.cuda.get_device_name(0)}\")"
   ]
  },
  {
   "cell_type": "markdown",
   "id": "15bef8b6",
   "metadata": {},
   "source": [
    "## Setup Environment and Data"
   ]
  },
  {
   "cell_type": "code",
   "execution_count": null,
   "id": "4cabed68",
   "metadata": {},
   "outputs": [],
   "source": [
    "# Clone repository if not exists\n",
    "if not os.path.exists('datasets-base'):\n",
    "    !git clone https://github.com/bentex2006/datasets-base.git\n",
    "\n",
    "# Load configuration\n",
    "import json\n",
    "with open('datasets-base/config/model_configs/mistral_qlora_config.json', 'r') as f:\n",
    "    config = json.load(f)\n",
    "\n",
    "# Set model parameters\n",
    "MODEL_NAME = config['model_name_or_path']\n",
    "DATA_PATH = 'datasets-base/data/processed/hinglish_mistral.jsonl'\n",
    "OUTPUT_DIR = 'results/mistral-savage'"
   ]
  },
  {
   "cell_type": "markdown",
   "id": "99398f9f",
   "metadata": {},
   "source": [
    "## Load and Process Dataset"
   ]
  },
  {
   "cell_type": "code",
   "execution_count": null,
   "id": "daa27376",
   "metadata": {},
   "outputs": [],
   "source": [
    "# Load dataset\n",
    "dataset = load_dataset('json', data_files=DATA_PATH, split='train')\n",
    "\n",
    "# Initialize tokenizer\n",
    "tokenizer = AutoTokenizer.from_pretrained(\n",
    "    MODEL_NAME,\n",
    "    padding_side=\"right\",\n",
    "    use_fast=False\n",
    ")\n",
    "tokenizer.pad_token = tokenizer.eos_token\n",
    "\n",
    "# Prepare training prompt template\n",
    "def create_prompt(example):\n",
    "    instruction = example['instruction']\n",
    "    input_text = example['input']\n",
    "    output = example['output']\n",
    "    \n",
    "    # Format: <s>[INST] instruction + input [/INST] output </s>\n",
    "    prompt = f\"<s>[INST] {instruction}\\n{input_text} [/INST] {output} </s>\"\n",
    "    return prompt\n",
    "\n",
    "# Tokenize dataset\n",
    "def tokenize_function(examples):\n",
    "    prompts = [create_prompt(example) for example in examples]\n",
    "    return tokenizer(prompts, truncation=True, max_length=config['max_seq_length'])\n",
    "\n",
    "tokenized_dataset = dataset.map(tokenize_function, batched=True)\n",
    "print(f\"Dataset size: {len(tokenized_dataset)} examples\")"
   ]
  },
  {
   "cell_type": "markdown",
   "id": "8277029a",
   "metadata": {},
   "source": [
    "## Initialize Model with QLoRA"
   ]
  },
  {
   "cell_type": "code",
   "execution_count": null,
   "id": "cf09160b",
   "metadata": {},
   "outputs": [],
   "source": [
    "# Quantization configuration\n",
    "bnb_config = BitsAndBytesConfig(\n",
    "    load_in_4bit=True,\n",
    "    bnb_4bit_compute_dtype=torch.float16,\n",
    "    bnb_4bit_quant_type=\"nf4\",\n",
    "    bnb_4bit_use_double_quant=True\n",
    ")\n",
    "\n",
    "# Load base model\n",
    "model = AutoModelForCausalLM.from_pretrained(\n",
    "    MODEL_NAME,\n",
    "    quantization_config=bnb_config,\n",
    "    device_map=\"auto\"\n",
    ")\n",
    "\n",
    "# Prepare model for k-bit training\n",
    "model = prepare_model_for_kbit_training(model)\n",
    "\n",
    "# LoRA configuration\n",
    "lora_config = LoraConfig(\n",
    "    r=config['lora_r'],\n",
    "    lora_alpha=config['lora_alpha'],\n",
    "    lora_dropout=config['lora_dropout'],\n",
    "    bias=\"none\",\n",
    "    task_type=\"CAUSAL_LM\"\n",
    ")\n",
    "\n",
    "# Get PEFT model\n",
    "model = get_peft_model(model, lora_config)"
   ]
  },
  {
   "cell_type": "markdown",
   "id": "d58267e7",
   "metadata": {},
   "source": [
    "## Training Setup"
   ]
  },
  {
   "cell_type": "code",
   "execution_count": null,
   "id": "e6cc0f60",
   "metadata": {},
   "outputs": [],
   "source": [
    "# Training arguments\n",
    "training_args = TrainingArguments(\n",
    "    output_dir=OUTPUT_DIR,\n",
    "    num_train_epochs=config['num_train_epochs'],\n",
    "    per_device_train_batch_size=config['per_device_train_batch_size'],\n",
    "    gradient_accumulation_steps=config['gradient_accumulation_steps'],\n",
    "    learning_rate=config['learning_rate'],\n",
    "    max_grad_norm=config['max_grad_norm'],\n",
    "    warmup_ratio=config['warmup_ratio'],\n",
    "    lr_scheduler_type=config['lr_scheduler_type'],\n",
    "    save_strategy=\"steps\",\n",
    "    save_steps=50,\n",
    "    logging_steps=10,\n",
    "    bf16=True,\n",
    "    torch_compile=False,\n",
    "    save_total_limit=3,\n",
    ")\n",
    "\n",
    "# Initialize trainer\n",
    "from transformers import Trainer\n",
    "\n",
    "trainer = Trainer(\n",
    "    model=model,\n",
    "    args=training_args,\n",
    "    train_dataset=tokenized_dataset,\n",
    "    data_collator=lambda x: {'input_ids': torch.stack([torch.tensor(x[i]['input_ids']) for i in range(len(x))])}\n",
    ")"
   ]
  },
  {
   "cell_type": "markdown",
   "id": "39e4793e",
   "metadata": {},
   "source": [
    "## Start Training"
   ]
  },
  {
   "cell_type": "code",
   "execution_count": null,
   "id": "0771d6c2",
   "metadata": {},
   "outputs": [],
   "source": [
    "# Train model\n",
    "trainer.train()\n",
    "\n",
    "# Save final model\n",
    "trainer.save_model()\n",
    "print(f\"Model saved to {OUTPUT_DIR}\")"
   ]
  },
  {
   "cell_type": "markdown",
   "id": "88d68d83",
   "metadata": {},
   "source": [
    "## Test the Model"
   ]
  },
  {
   "cell_type": "code",
   "execution_count": null,
   "id": "8196e08a",
   "metadata": {},
   "outputs": [],
   "source": [
    "def generate_response(instruction, input_text):\n",
    "    prompt = f\"<s>[INST] {instruction}\\n{input_text} [/INST]\"\n",
    "    inputs = tokenizer(prompt, return_tensors=\"pt\", padding=True)\n",
    "    inputs = {k: v.to(model.device) for k, v in inputs.items()}\n",
    "    \n",
    "    outputs = model.generate(\n",
    "        **inputs,\n",
    "        max_length=256,\n",
    "        temperature=0.7,\n",
    "        top_p=0.95,\n",
    "        num_return_sequences=1,\n",
    "    )\n",
    "    \n",
    "    response = tokenizer.decode(outputs[0], skip_special_tokens=True)\n",
    "    return response.split('[/INST]')[-1].strip()\n",
    "\n",
    "# Test examples\n",
    "test_cases = [\n",
    "    {\"instruction\": \"playful banter\", \"input\": \"Aaj meeting mein so gaya main\"},\n",
    "    {\"instruction\": \"witty response\", \"input\": \"Tu bohot smart hai\"},\n",
    "    {\"instruction\": \"neutral conversation\", \"input\": \"Coffee peene chalein?\"}\n",
    "]\n",
    "\n",
    "for case in test_cases:\n",
    "    response = generate_response(case['instruction'], case['input'])\n",
    "    print(f\"Instruction: {case['instruction']}\")\n",
    "    print(f\"Input: {case['input']}\")\n",
    "    print(f\"Response: {response}\\n\")"
   ]
  }
 ],
 "metadata": {
  "language_info": {
   "name": "python"
  }
 },
 "nbformat": 4,
 "nbformat_minor": 5
}
